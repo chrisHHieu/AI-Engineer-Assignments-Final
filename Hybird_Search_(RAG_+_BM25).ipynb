{
  "cells": [
    {
      "cell_type": "code",
      "execution_count": null,
      "metadata": {
        "colab": {
          "base_uri": "https://localhost:8080/"
        },
        "id": "D3HErVjOKQNP",
        "outputId": "2c82af3b-fb27-44ce-b8bd-b29ebccb21ee"
      },
      "outputs": [],
      "source": [
        "!pip install langchain langchain-openai rank_bm25 faiss-cpu sentence-transformers langchain-community torch"
      ]
    },
    {
      "cell_type": "code",
      "execution_count": 2,
      "metadata": {
        "id": "r06F2tPZRsoy"
      },
      "outputs": [],
      "source": [
        "from langchain_openai import ChatOpenAI\n",
        "from langchain.schema import Document, HumanMessage\n",
        "from langchain.retrievers import BM25Retriever, EnsembleRetriever\n",
        "from langchain.vectorstores import FAISS\n",
        "from langchain.embeddings import HuggingFaceEmbeddings\n",
        "from sentence_transformers import CrossEncoder\n",
        "from langchain_core.runnables import RunnablePassthrough\n",
        "from langchain_core.output_parsers import StrOutputParser\n",
        "from langchain_core.prompts import ChatPromptTemplate\n",
        "\n",
        "import torch\n",
        "import numpy as np"
      ]
    },
    {
      "cell_type": "code",
      "execution_count": 3,
      "metadata": {
        "id": "grVwMz36LGZy"
      },
      "outputs": [],
      "source": [
        "docs_data = [\n",
        "\n",
        "    {\n",
        "        \"chunk_id\": \"voc_surveys_1\",\n",
        "        \"feature_name\": \"Multichannel Survey Deployment\",\n",
        "        \"category\": \"Voice of Customer\",\n",
        "        \"use_case\": \"Khảo sát đa kênh\",\n",
        "        \"embedding_text\": \"Thiết kế và gửi khảo sát qua Web, Mobile, Zalo, SMS, Email, QR, và POS để thu thập phản hồi từ khách hàng một cách linh hoạt.\",\n",
        "\n",
        "    },\n",
        "    {\n",
        "        \"chunk_id\": \"voc_reviews_1\",\n",
        "        \"feature_name\": \"Review Aggregation & Analysis\",\n",
        "        \"category\": \"Voice of Customer\",\n",
        "        \"use_case\": \"Tổng hợp và phân tích đánh giá\",\n",
        "        \"embedding_text\": \"Thu thập đánh giá khách hàng từ nhiều nền tảng như Google, Facebook và phân tích xu hướng, từ khóa và mức độ hài lòng.\",\n",
        "\n",
        "    },\n",
        "    {\n",
        "        \"chunk_id\": \"voc_conversations_1\",\n",
        "        \"feature_name\": \"Conversational Analytics\",\n",
        "        \"category\": \"Voice of Customer\",\n",
        "        \"use_case\": \"Phân tích hội thoại\",\n",
        "        \"embedding_text\": \"Lắng nghe và phân tích nội dung chat, cuộc gọi, và email để rút ra chủ đề chính, xu hướng và mức độ hài lòng.\",\n",
        "\n",
        "    },\n",
        "    {\n",
        "        \"chunk_id\": \"ai_inbox_1\",\n",
        "        \"feature_name\": \"AI Inbox\",\n",
        "        \"category\": \"AI Customer Service\",\n",
        "        \"use_case\": \"Hợp tác giữa AI và con người trong hỗ trợ\",\n",
        "        \"embedding_text\": \"Kết hợp AI và con người trong trung tâm liên lạc, giúp xử lý nhanh các yêu cầu, phản hồi tự động và gợi ý hành động.\",\n",
        "\n",
        "    },\n",
        "    {\n",
        "        \"chunk_id\": \"ai_tickets_1\",\n",
        "        \"feature_name\": \"Ticket Management System\",\n",
        "        \"category\": \"AI Customer Service\",\n",
        "        \"use_case\": \"Quản lý yêu cầu hỗ trợ\",\n",
        "        \"embedding_text\": \"Hệ thống quản lý yêu cầu hỗ trợ khách hàng với phân loại, ưu tiên và xử lý nhanh chóng nhờ AI.\",\n",
        "\n",
        "    },\n",
        "    {\n",
        "        \"chunk_id\": \"insights_experience_1\",\n",
        "        \"feature_name\": \"Experience Insights\",\n",
        "        \"category\": \"Insights\",\n",
        "        \"use_case\": \"Phân tích trải nghiệm khách hàng\",\n",
        "        \"embedding_text\": \"Hiểu rõ hành vi và trải nghiệm khách hàng tại từng điểm chạm bằng phân tích chủ đề và xu hướng phản hồi.\",\n",
        "\n",
        "    },\n",
        "    {\n",
        "        \"chunk_id\": \"insights_operation_1\",\n",
        "        \"feature_name\": \"Operational Monitoring\",\n",
        "        \"category\": \"Insights\",\n",
        "        \"use_case\": \"Giám sát hoạt động dịch vụ\",\n",
        "        \"embedding_text\": \"Theo dõi hiệu suất khảo sát, chiến dịch, trung tâm liên hệ và xử lý ticket để đảm bảo hiệu quả vận hành.\",\n",
        "\n",
        "    },\n",
        "    {\n",
        "        \"chunk_id\": \"customer_360_customers_1\",\n",
        "        \"feature_name\": \"Customer Database & Segmentation\",\n",
        "        \"category\": \"Customer 360\",\n",
        "        \"use_case\": \"Quản lý và phân loại khách hàng\",\n",
        "        \"embedding_text\": \"Tập trung toàn bộ dữ liệu khách hàng và phân nhóm theo hành vi, giá trị, lịch sử tương tác.\",\n",
        "\n",
        "    },\n",
        "    {\n",
        "        \"chunk_id\": \"customer_360_engagement_1\",\n",
        "        \"feature_name\": \"Customer Engagement Campaigns\",\n",
        "        \"category\": \"Customer 360\",\n",
        "        \"use_case\": \"Chạy chiến dịch tương tác khách hàng\",\n",
        "        \"embedding_text\": \"Tạo và triển khai chiến dịch chăm sóc khách hàng đa kênh để tăng tương tác và giữ chân khách hàng.\",\n",
        "\n",
        "    },\n",
        "    {\n",
        "        \"chunk_id\": \"ai_automation_1\",\n",
        "        \"feature_name\": \"AI Model & Automation Config\",\n",
        "        \"category\": \"AI & Automation\",\n",
        "        \"use_case\": \"Cấu hình AI và workflow tự động\",\n",
        "        \"embedding_text\": \"Thiết lập mô hình AI, công cụ automation và các điều kiện trigger để tự động hóa quy trình tương tác với khách.\",\n",
        "\n",
        "    }\n",
        "]\n",
        "\n",
        "# Chuyển dữ liệu thành đối tượng Document của LangChain\n",
        "docs = [\n",
        "    Document(\n",
        "        page_content=doc[\"embedding_text\"],\n",
        "        metadata={\n",
        "            \"chunk_id\": doc[\"chunk_id\"],\n",
        "            \"feature_name\": doc[\"feature_name\"],\n",
        "            \"category\": doc[\"category\"],\n",
        "            \"use_case\": doc[\"use_case\"],\n",
        "        }\n",
        "    ) for doc in docs_data\n",
        "]"
      ]
    },
    {
      "cell_type": "code",
      "execution_count": 4,
      "metadata": {
        "colab": {
          "base_uri": "https://localhost:8080/"
        },
        "id": "v7H5j77bLeos",
        "outputId": "d67dc008-9e75-48fc-ae2f-05e18694b63c"
      },
      "outputs": [
        {
          "data": {
            "text/plain": [
              "[Document(metadata={'chunk_id': 'voc_surveys_1', 'feature_name': 'Multichannel Survey Deployment', 'category': 'Voice of Customer', 'use_case': 'Khảo sát đa kênh'}, page_content='Thiết kế và gửi khảo sát qua Web, Mobile, Zalo, SMS, Email, QR, và POS để thu thập phản hồi từ khách hàng một cách linh hoạt.'),\n",
              " Document(metadata={'chunk_id': 'voc_reviews_1', 'feature_name': 'Review Aggregation & Analysis', 'category': 'Voice of Customer', 'use_case': 'Tổng hợp và phân tích đánh giá'}, page_content='Thu thập đánh giá khách hàng từ nhiều nền tảng như Google, Facebook và phân tích xu hướng, từ khóa và mức độ hài lòng.'),\n",
              " Document(metadata={'chunk_id': 'voc_conversations_1', 'feature_name': 'Conversational Analytics', 'category': 'Voice of Customer', 'use_case': 'Phân tích hội thoại'}, page_content='Lắng nghe và phân tích nội dung chat, cuộc gọi, và email để rút ra chủ đề chính, xu hướng và mức độ hài lòng.'),\n",
              " Document(metadata={'chunk_id': 'ai_inbox_1', 'feature_name': 'AI Inbox', 'category': 'AI Customer Service', 'use_case': 'Hợp tác giữa AI và con người trong hỗ trợ'}, page_content='Kết hợp AI và con người trong trung tâm liên lạc, giúp xử lý nhanh các yêu cầu, phản hồi tự động và gợi ý hành động.'),\n",
              " Document(metadata={'chunk_id': 'ai_tickets_1', 'feature_name': 'Ticket Management System', 'category': 'AI Customer Service', 'use_case': 'Quản lý yêu cầu hỗ trợ'}, page_content='Hệ thống quản lý yêu cầu hỗ trợ khách hàng với phân loại, ưu tiên và xử lý nhanh chóng nhờ AI.'),\n",
              " Document(metadata={'chunk_id': 'insights_experience_1', 'feature_name': 'Experience Insights', 'category': 'Insights', 'use_case': 'Phân tích trải nghiệm khách hàng'}, page_content='Hiểu rõ hành vi và trải nghiệm khách hàng tại từng điểm chạm bằng phân tích chủ đề và xu hướng phản hồi.'),\n",
              " Document(metadata={'chunk_id': 'insights_operation_1', 'feature_name': 'Operational Monitoring', 'category': 'Insights', 'use_case': 'Giám sát hoạt động dịch vụ'}, page_content='Theo dõi hiệu suất khảo sát, chiến dịch, trung tâm liên hệ và xử lý ticket để đảm bảo hiệu quả vận hành.'),\n",
              " Document(metadata={'chunk_id': 'customer_360_customers_1', 'feature_name': 'Customer Database & Segmentation', 'category': 'Customer 360', 'use_case': 'Quản lý và phân loại khách hàng'}, page_content='Tập trung toàn bộ dữ liệu khách hàng và phân nhóm theo hành vi, giá trị, lịch sử tương tác.'),\n",
              " Document(metadata={'chunk_id': 'customer_360_engagement_1', 'feature_name': 'Customer Engagement Campaigns', 'category': 'Customer 360', 'use_case': 'Chạy chiến dịch tương tác khách hàng'}, page_content='Tạo và triển khai chiến dịch chăm sóc khách hàng đa kênh để tăng tương tác và giữ chân khách hàng.'),\n",
              " Document(metadata={'chunk_id': 'ai_automation_1', 'feature_name': 'AI Model & Automation Config', 'category': 'AI & Automation', 'use_case': 'Cấu hình AI và workflow tự động'}, page_content='Thiết lập mô hình AI, công cụ automation và các điều kiện trigger để tự động hóa quy trình tương tác với khách.')]"
            ]
          },
          "execution_count": 4,
          "metadata": {},
          "output_type": "execute_result"
        }
      ],
      "source": [
        "docs"
      ]
    },
    {
      "cell_type": "code",
      "execution_count": null,
      "metadata": {
        "id": "TrAhnAwdLtgd"
      },
      "outputs": [],
      "source": [
        "pain_point = \"Khách hàng phàn nàn về việc khó hiểu hành vi và trải nghiệm của họ tại các điểm chạm.\"\n",
        "query = pain_point  # Sử dụng trực tiếp pain point làm query"
      ]
    },
    {
      "cell_type": "code",
      "execution_count": 6,
      "metadata": {
        "colab": {
          "base_uri": "https://localhost:8080/"
        },
        "id": "nhrD9UDKLKiF",
        "outputId": "df1347bc-25c5-4507-f287-57fd3aa2fbe3"
      },
      "outputs": [
        {
          "name": "stdout",
          "output_type": "stream",
          "text": [
            "=== Bước 1: Truy xuất tài liệu bằng BM25 ===\n",
            "BM25 Doc 1: Hiểu rõ hành vi và trải nghiệm khách hàng tại từng điểm chạm bằng phân tích chủ đề và xu hướng phản hồi. (Feature: Experience Insights)\n",
            "BM25 Doc 2: Lắng nghe và phân tích nội dung chat, cuộc gọi, và email để rút ra chủ đề chính, xu hướng và mức độ hài lòng. (Feature: Conversational Analytics)\n",
            "BM25 Doc 3: Kết hợp AI và con người trong trung tâm liên lạc, giúp xử lý nhanh các yêu cầu, phản hồi tự động và gợi ý hành động. (Feature: AI Inbox)\n",
            "BM25 Doc 4: Tạo và triển khai chiến dịch chăm sóc khách hàng đa kênh để tăng tương tác và giữ chân khách hàng. (Feature: Customer Engagement Campaigns)\n",
            "BM25 Doc 5: Tập trung toàn bộ dữ liệu khách hàng và phân nhóm theo hành vi, giá trị, lịch sử tương tác. (Feature: Customer Database & Segmentation)\n",
            "BM25 Doc 6: Hệ thống quản lý yêu cầu hỗ trợ khách hàng với phân loại, ưu tiên và xử lý nhanh chóng nhờ AI. (Feature: Ticket Management System)\n"
          ]
        },
        {
          "name": "stderr",
          "output_type": "stream",
          "text": [
            "C:\\Users\\HP\\AppData\\Local\\Temp\\ipykernel_19996\\1693885745.py:5: LangChainDeprecationWarning: The method `BaseRetriever.get_relevant_documents` was deprecated in langchain-core 0.1.46 and will be removed in 1.0. Use :meth:`~invoke` instead.\n",
            "  bm25_docs = bm25_retriever.get_relevant_documents(query)\n"
          ]
        }
      ],
      "source": [
        "#Khởi tạo BM25 Retriever\n",
        "print(\"=== Bước 1: Truy xuất tài liệu bằng BM25 ===\")\n",
        "bm25_retriever = BM25Retriever.from_documents(docs)\n",
        "bm25_retriever.k = 6  # Lấy top 5 tài liệu\n",
        "bm25_docs = bm25_retriever.get_relevant_documents(query)\n",
        "for i, doc in enumerate(bm25_docs, 1):\n",
        "    print(f\"BM25 Doc {i}: {doc.page_content} (Feature: {doc.metadata['feature_name']})\")\n",
        "\n"
      ]
    },
    {
      "cell_type": "code",
      "execution_count": 7,
      "metadata": {
        "colab": {
          "base_uri": "https://localhost:8080/"
        },
        "id": "__zx56_uLPKN",
        "outputId": "6bf3d0c4-3e78-44f0-f3aa-425026815d02"
      },
      "outputs": [
        {
          "name": "stdout",
          "output_type": "stream",
          "text": [
            "\n",
            "=== Bước 2: Truy xuất tài liệu bằng Dense Retrieval ===\n"
          ]
        },
        {
          "name": "stderr",
          "output_type": "stream",
          "text": [
            "C:\\Users\\HP\\AppData\\Local\\Temp\\ipykernel_19996\\2558086555.py:3: LangChainDeprecationWarning: The class `HuggingFaceEmbeddings` was deprecated in LangChain 0.2.2 and will be removed in 1.0. An updated version of the class exists in the :class:`~langchain-huggingface package and should be used instead. To use it run `pip install -U :class:`~langchain-huggingface` and import as `from :class:`~langchain_huggingface import HuggingFaceEmbeddings``.\n",
            "  embeddings = HuggingFaceEmbeddings(\n"
          ]
        },
        {
          "name": "stdout",
          "output_type": "stream",
          "text": [
            "Dense Doc 1: Score=0.5762 - Thu thập đánh giá khách hàng từ nhiều nền tảng như Google, Facebook và phân tích xu hướng, từ khóa và mức độ hài lòng. (Feature: Review Aggregation & Analysis)\n",
            "Dense Doc 2: Score=0.6146 - Tạo và triển khai chiến dịch chăm sóc khách hàng đa kênh để tăng tương tác và giữ chân khách hàng. (Feature: Customer Engagement Campaigns)\n",
            "Dense Doc 3: Score=0.6411 - Hiểu rõ hành vi và trải nghiệm khách hàng tại từng điểm chạm bằng phân tích chủ đề và xu hướng phản hồi. (Feature: Experience Insights)\n",
            "Dense Doc 4: Score=0.6934 - Hệ thống quản lý yêu cầu hỗ trợ khách hàng với phân loại, ưu tiên và xử lý nhanh chóng nhờ AI. (Feature: Ticket Management System)\n",
            "Dense Doc 5: Score=0.7266 - Tập trung toàn bộ dữ liệu khách hàng và phân nhóm theo hành vi, giá trị, lịch sử tương tác. (Feature: Customer Database & Segmentation)\n",
            "Dense Doc 6: Score=0.7695 - Thiết kế và gửi khảo sát qua Web, Mobile, Zalo, SMS, Email, QR, và POS để thu thập phản hồi từ khách hàng một cách linh hoạt. (Feature: Multichannel Survey Deployment)\n",
            "--------------------------------------------------\n"
          ]
        }
      ],
      "source": [
        "#Khởi tạo Dense Retriever với Sentence Transformers\n",
        "print(\"\\n=== Bước 2: Truy xuất tài liệu bằng Dense Retrieval ===\")\n",
        "embeddings = HuggingFaceEmbeddings(\n",
        "    model_name=\"sentence-transformers/all-MiniLM-L6-v2\",\n",
        "    model_kwargs={\"device\": \"cuda\"} if torch.cuda.is_available() else {\"device\": \"cpu\"}\n",
        ")\n",
        "vectorstore = FAISS.from_documents(docs, embeddings)\n",
        "dense_retriever = vectorstore.as_retriever(search_kwargs={\"k\": 6})\n",
        "dense_docs = dense_retriever.get_relevant_documents(query)\n",
        "docs_and_scores_for_print = vectorstore.similarity_search_with_score(query, k=6)\n",
        "\n",
        "for i, (doc, score) in enumerate(docs_and_scores_for_print, 1):\n",
        "    print(f\"Dense Doc {i}: Score={score:.4f} - {doc.page_content} (Feature: {doc.metadata['feature_name']})\")\n",
        "print(\"--------------------------------------------------\")"
      ]
    },
    {
      "cell_type": "code",
      "execution_count": 8,
      "metadata": {
        "colab": {
          "base_uri": "https://localhost:8080/"
        },
        "id": "PL5wnMAZLUhc",
        "outputId": "975a688a-8be3-4b8f-899e-93b53e36236a"
      },
      "outputs": [
        {
          "name": "stdout",
          "output_type": "stream",
          "text": [
            "\n",
            "=== Bước 3: Kết hợp tài liệu (Ensemble) ===\n",
            "Ensemble Doc 1: Hiểu rõ hành vi và trải nghiệm khách hàng tại từng điểm chạm bằng phân tích chủ đề và xu hướng phản hồi. (Feature: Experience Insights)\n",
            "Ensemble Doc 2: Tạo và triển khai chiến dịch chăm sóc khách hàng đa kênh để tăng tương tác và giữ chân khách hàng. (Feature: Customer Engagement Campaigns)\n",
            "Ensemble Doc 3: Hệ thống quản lý yêu cầu hỗ trợ khách hàng với phân loại, ưu tiên và xử lý nhanh chóng nhờ AI. (Feature: Ticket Management System)\n",
            "Ensemble Doc 4: Tập trung toàn bộ dữ liệu khách hàng và phân nhóm theo hành vi, giá trị, lịch sử tương tác. (Feature: Customer Database & Segmentation)\n",
            "Ensemble Doc 5: Thu thập đánh giá khách hàng từ nhiều nền tảng như Google, Facebook và phân tích xu hướng, từ khóa và mức độ hài lòng. (Feature: Review Aggregation & Analysis)\n",
            "Ensemble Doc 6: Thiết kế và gửi khảo sát qua Web, Mobile, Zalo, SMS, Email, QR, và POS để thu thập phản hồi từ khách hàng một cách linh hoạt. (Feature: Multichannel Survey Deployment)\n",
            "Ensemble Doc 7: Lắng nghe và phân tích nội dung chat, cuộc gọi, và email để rút ra chủ đề chính, xu hướng và mức độ hài lòng. (Feature: Conversational Analytics)\n",
            "Ensemble Doc 8: Kết hợp AI và con người trong trung tâm liên lạc, giúp xử lý nhanh các yêu cầu, phản hồi tự động và gợi ý hành động. (Feature: AI Inbox)\n"
          ]
        }
      ],
      "source": [
        "#Kết hợp BM25 và Dense Retrieval\n",
        "print(\"\\n=== Bước 3: Kết hợp tài liệu (Ensemble) ===\")\n",
        "ensemble_retriever = EnsembleRetriever(\n",
        "    retrievers=[bm25_retriever, dense_retriever],\n",
        "    weights=[0.4, 0.6]\n",
        ")\n",
        "ensemble_docs = ensemble_retriever.get_relevant_documents(query)\n",
        "for i, doc in enumerate(ensemble_docs, 1):\n",
        "    print(f\"Ensemble Doc {i}: {doc.page_content} (Feature: {doc.metadata['feature_name']})\")"
      ]
    },
    {
      "cell_type": "code",
      "execution_count": 9,
      "metadata": {
        "colab": {
          "base_uri": "https://localhost:8080/"
        },
        "id": "OIX9A-tMLXGI",
        "outputId": "9aa0366e-ee68-4d08-894b-a85456e69a05"
      },
      "outputs": [
        {
          "name": "stdout",
          "output_type": "stream",
          "text": [
            "\n",
            "=== Bước 4: Rerank tài liệu ===\n"
          ]
        },
        {
          "data": {
            "application/vnd.jupyter.widget-view+json": {
              "model_id": "ef3f6076c08e4392bd7eb0c20ae47de6",
              "version_major": 2,
              "version_minor": 0
            },
            "text/plain": [
              "config.json:   0%|          | 0.00/794 [00:00<?, ?B/s]"
            ]
          },
          "metadata": {},
          "output_type": "display_data"
        },
        {
          "name": "stderr",
          "output_type": "stream",
          "text": [
            "Xet Storage is enabled for this repo, but the 'hf_xet' package is not installed. Falling back to regular HTTP download. For better performance, install the package with: `pip install huggingface_hub[hf_xet]` or `pip install hf_xet`\n"
          ]
        },
        {
          "data": {
            "application/vnd.jupyter.widget-view+json": {
              "model_id": "159a9086e3f6465095e0e5f2155895d1",
              "version_major": 2,
              "version_minor": 0
            },
            "text/plain": [
              "model.safetensors:   0%|          | 0.00/90.9M [00:00<?, ?B/s]"
            ]
          },
          "metadata": {},
          "output_type": "display_data"
        },
        {
          "data": {
            "application/vnd.jupyter.widget-view+json": {
              "model_id": "6265dc88171941dba8b6c772a9942d78",
              "version_major": 2,
              "version_minor": 0
            },
            "text/plain": [
              "tokenizer_config.json: 0.00B [00:00, ?B/s]"
            ]
          },
          "metadata": {},
          "output_type": "display_data"
        },
        {
          "data": {
            "application/vnd.jupyter.widget-view+json": {
              "model_id": "75306e6ae00b44edac58b2fee780fb33",
              "version_major": 2,
              "version_minor": 0
            },
            "text/plain": [
              "vocab.txt: 0.00B [00:00, ?B/s]"
            ]
          },
          "metadata": {},
          "output_type": "display_data"
        },
        {
          "data": {
            "application/vnd.jupyter.widget-view+json": {
              "model_id": "d664d63134064571803d60bc1012b831",
              "version_major": 2,
              "version_minor": 0
            },
            "text/plain": [
              "tokenizer.json: 0.00B [00:00, ?B/s]"
            ]
          },
          "metadata": {},
          "output_type": "display_data"
        },
        {
          "data": {
            "application/vnd.jupyter.widget-view+json": {
              "model_id": "88e4cf0dccd6479aa15fbc48f6069a9b",
              "version_major": 2,
              "version_minor": 0
            },
            "text/plain": [
              "special_tokens_map.json:   0%|          | 0.00/132 [00:00<?, ?B/s]"
            ]
          },
          "metadata": {},
          "output_type": "display_data"
        },
        {
          "data": {
            "application/vnd.jupyter.widget-view+json": {
              "model_id": "ca3948c1c8bd413280145df15b5153e3",
              "version_major": 2,
              "version_minor": 0
            },
            "text/plain": [
              "README.md: 0.00B [00:00, ?B/s]"
            ]
          },
          "metadata": {},
          "output_type": "display_data"
        },
        {
          "name": "stdout",
          "output_type": "stream",
          "text": [
            "Reranked Doc 1 (score: 0.8585): Hiểu rõ hành vi và trải nghiệm khách hàng tại từng điểm chạm bằng phân tích chủ đề và xu hướng phản hồi. (Feature: Experience Insights)\n",
            "Reranked Doc 2 (score: 0.6744): Thu thập đánh giá khách hàng từ nhiều nền tảng như Google, Facebook và phân tích xu hướng, từ khóa và mức độ hài lòng. (Feature: Review Aggregation & Analysis)\n",
            "Reranked Doc 3 (score: 0.4791): Tạo và triển khai chiến dịch chăm sóc khách hàng đa kênh để tăng tương tác và giữ chân khách hàng. (Feature: Customer Engagement Campaigns)\n",
            "Reranked Doc 4 (score: 0.2935): Hệ thống quản lý yêu cầu hỗ trợ khách hàng với phân loại, ưu tiên và xử lý nhanh chóng nhờ AI. (Feature: Ticket Management System)\n",
            "Reranked Doc 5 (score: 0.1717): Tập trung toàn bộ dữ liệu khách hàng và phân nhóm theo hành vi, giá trị, lịch sử tương tác. (Feature: Customer Database & Segmentation)\n",
            "Reranked Doc 6 (score: 0.0964): Kết hợp AI và con người trong trung tâm liên lạc, giúp xử lý nhanh các yêu cầu, phản hồi tự động và gợi ý hành động. (Feature: AI Inbox)\n",
            "Reranked Doc 7 (score: 0.0866): Thiết kế và gửi khảo sát qua Web, Mobile, Zalo, SMS, Email, QR, và POS để thu thập phản hồi từ khách hàng một cách linh hoạt. (Feature: Multichannel Survey Deployment)\n",
            "Reranked Doc 8 (score: 0.0107): Lắng nghe và phân tích nội dung chat, cuộc gọi, và email để rút ra chủ đề chính, xu hướng và mức độ hài lòng. (Feature: Conversational Analytics)\n"
          ]
        }
      ],
      "source": [
        "#Rerank tài liệu bằng CrossEncoder\n",
        "print(\"\\n=== Bước 4: Rerank tài liệu ===\")\n",
        "reranker = CrossEncoder(\"cross-encoder/ms-marco-MiniLM-L-6-v2\")\n",
        "pairs = [[query, doc.page_content] for doc in ensemble_docs]\n",
        "scores = reranker.predict(pairs)\n",
        "\n",
        "normalized_scores = [1 / (1 + np.exp(-score)) for score in scores]\n",
        "scored_documents = sorted(zip(normalized_scores, ensemble_docs), key=lambda x: x[0], reverse=True)\n",
        "reranked_docs = [doc for score, doc in scored_documents]\n",
        "\n",
        "for i, (score, doc) in enumerate(scored_documents, 1):\n",
        "    print(f\"Reranked Doc {i} (score: {score:.4f}): {doc.page_content} (Feature: {doc.metadata['feature_name']})\")\n"
      ]
    },
    {
      "cell_type": "code",
      "execution_count": 10,
      "metadata": {
        "id": "BZIHpEk0LbdO"
      },
      "outputs": [],
      "source": [
        "llm = ChatOpenAI(\n",
        "    base_url=\"https://openrouter.ai/api/v1\",\n",
        "    api_key=\"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\",\n",
        "    model=\"google/gemma-3n-e4b-it:free\",\n",
        "    default_headers={\n",
        "        \"HTTP-Referer\": \"<YOUR_SITE_URL>\",\n",
        "        \"X-Title\": \"<YOUR_SITE_NAME>\",\n",
        "    },\n",
        "    temperature= 0.7\n",
        ")\n",
        "\n",
        "\n",
        "context = \"\\n\".join([f\"Feature: {doc.metadata['feature_name']}\\nDescription: {doc.page_content}\" for doc in reranked_docs[:5]])\n",
        "\n",
        "prompt = f\"\"\"\n",
        "Bạn là một trợ lý chuyên gia tư vấn dịch vụ của Filum.ai.\n",
        "Nhiệm vụ của bạn là phân tích \"Pain Point\" của người dùng và đề xuất các giải pháp phù hợp nhất từ Filum.ai.\n",
        "Hãy đảm bảo câu trả lời được trình bày bằng ngôn ngữ mà người dùng đã sử dụng trong câu hỏi của họ.\n",
        "\n",
        "Dưới đây là thông tin về các tính năng của Filum.ai, được sắp xếp từ **phù hợp nhất đến ít phù hợp hơn** với \"Pain Point\" của khách hàng:\n",
        "{context}\n",
        "\n",
        "\"Pain Point\" của khách hàng: {query}\n",
        "\n",
        "**QUAN TRỌNG: Trước khi đưa ra câu trả lời cuối cùng, hãy thực hiện các bước suy luận sau đây. Không hiển thị các bước suy luận này trong phản hồi cuối cùng của bạn, chỉ hiển thị \"Desired Output Format\" sau khi suy luận xong.**\n",
        "\n",
        "1.  **Phân tích Pain Point:** Đọc kỹ \"Pain Point\" và xác định các vấn đề cốt lõi mà khách hàng đang gặp phải. Các từ khóa quan trọng là gì? Vấn đề chính cần giải quyết là gì?\n",
        "2.  **Đánh giá sự phù hợp của từng tính năng trong Context:**\n",
        "    * Với mỗi tính năng trong \"{context}\", hãy tự hỏi: \"Tính năng này giải quyết khía cạnh nào của 'Pain Point'? Nó có thực sự phù hợp không? Mức độ phù hợp là bao nhiêu (ví dụ: Rất cao, Cao, Trung bình, Thấp)?\"\n",
        "    * Lưu ý đến thứ tự đã được sắp xếp của các tính năng.\n",
        "3.  **Lựa chọn giải pháp chính:** Dựa trên phân tích ở bước 2, hãy chọn ra **CHỈ MỘT (1) giải pháp tiêu biểu và hiệu quả nhất** mà bạn tin rằng giải quyết trực tiếp và mạnh mẽ nhất \"Pain Point\" của khách hàng. Giải thích ngắn gọn lý do tại sao đây là lựa chọn số 1.\n",
        "4.  **Kiểm tra giải pháp bổ trợ (nếu có):** Xem xét xem có tính năng thứ hai nào trong \"{context}\" mà:\n",
        "    * Cũng cực kỳ phù hợp với \"Pain Point\" (ví dụ: mức độ phù hợp Rất cao hoặc Cao).\n",
        "    * VÀ bổ trợ, hỗ trợ giải pháp chính để giải quyết vấn đề một cách toàn diện hơn, chứ không phải chỉ là một giải pháp độc lập khác.\n",
        "    * Nếu tìm thấy, giải thích ngắn gọn tại sao cả hai giải pháp này đều cần thiết và hữu ích khi kết hợp.\n",
        "5.  **Tổng hợp và Trình bày:** Dựa trên các bước suy luận trên, chuẩn bị câu trả lời cuối cùng theo định dạng yêu cầu.\n",
        "\n",
        "**Định dạng đầu ra mong muốn (sau các bước suy luận nội bộ của bạn):**\n",
        "Potential Filum.ai Solutions:\n",
        "- <Tên tính năng> – <Mô tả ngắn gọn cách giải pháp này giúp khắc phục vấn đề của khách hàng (Pain Point)>\n",
        "- <Tên tính năng (nếu có giải pháp thứ hai)> – <Mô tả ngắn gọn cách giải pháp này giúp khắc phục vấn đề của khách hàng (Pain Point)>\n",
        "\"\"\"\n",
        "\n",
        "\n",
        "\n",
        "prompt = ChatPromptTemplate.from_template(prompt)\n",
        "output_parser = StrOutputParser()\n",
        "\n",
        "rag_chain = (\n",
        "    {\"context\": RunnablePassthrough.assign(input=lambda x: context), \"query\": RunnablePassthrough()}\n",
        "    | prompt\n",
        "    | llm\n",
        "    | output_parser\n",
        ")"
      ]
    },
    {
      "cell_type": "code",
      "execution_count": 13,
      "metadata": {
        "colab": {
          "base_uri": "https://localhost:8080/",
          "height": 408
        },
        "id": "GVepBEdLN9FE",
        "outputId": "e89808a9-830a-4e07-a3cc-a620dc0658db"
      },
      "outputs": [
        {
          "name": "stdout",
          "output_type": "stream",
          "text": [
            "\n",
            "=== Chạy chuỗi RAG và nhận phản hồi ===\n",
            "Pain Point: Chúng tôi không có ý tưởng rõ ràng về điểm tiếp xúc của khách hàng đang gây ra sự thất vọng nhấ\n",
            "Desired Output Format:\n",
            "Potential Filum.ai Solutions:\n",
            "- Experience Insights – Tính năng này sẽ giúp bạn hiểu rõ hành vi và trải nghiệm khách hàng tại từng điểm tiếp xúc, từ đó xác định chính xác điểm nào đang gây ra sự thất vọng nhất. Phân tích chủ đề và xu hướng phản hồi sẽ cung cấp cái nhìn sâu sắc về những vấn đề cụ thể mà khách hàng đang gặp phải.\n",
            "- Review Aggregation & Analysis – Kết hợp với Experience Insights, tính năng này sẽ cung cấp thêm thông tin về những đánh giá khách hàng đang đưa ra trên các nền tảng khác nhau. Điều này giúp bạn xác định liệu sự thất vọng có liên quan đến những nhận xét tiêu cực trên mạng xã hội hay không, và từ đó đưa ra các biện pháp khắc phục phù hợp.\n"
          ]
        }
      ],
      "source": [
        "# Chạy chuỗi\n",
        "print(\"\\n=== Chạy chuỗi RAG và nhận phản hồi ===\")\n",
        "print(\"Pain Point:\", query)\n",
        "final_response = rag_chain.invoke({\"query\": query})\n",
        "\n",
        "print(final_response)"
      ]
    }
  ],
  "metadata": {
    "colab": {
      "provenance": []
    },
    "kernelspec": {
      "display_name": "venv",
      "language": "python",
      "name": "python3"
    },
    "language_info": {
      "codemirror_mode": {
        "name": "ipython",
        "version": 3
      },
      "file_extension": ".py",
      "mimetype": "text/x-python",
      "name": "python",
      "nbconvert_exporter": "python",
      "pygments_lexer": "ipython3",
      "version": "3.12.10"
    }
  },
  "nbformat": 4,
  "nbformat_minor": 0
}
